{
  "nbformat": 4,
  "nbformat_minor": 0,
  "metadata": {
    "colab": {
      "name": "Copy of game1",
      "provenance": [],
      "collapsed_sections": [],
      "authorship_tag": "ABX9TyNbLt8gaCWYO/wMIE6LaLJA",
      "include_colab_link": true
    },
    "kernelspec": {
      "name": "python3",
      "display_name": "Python 3"
    }
  },
  "cells": [
    {
      "cell_type": "markdown",
      "metadata": {
        "id": "view-in-github",
        "colab_type": "text"
      },
      "source": [
        "<a href=\"https://colab.research.google.com/github/venkymayara/frontend/blob/master/Copy_of_game1.ipynb\" target=\"_parent\"><img src=\"https://colab.research.google.com/assets/colab-badge.svg\" alt=\"Open In Colab\"/></a>"
      ]
    },
    {
      "cell_type": "code",
      "metadata": {
        "colab": {
          "base_uri": "https://localhost:8080/"
        },
        "id": "764ZsxM_gS75",
        "outputId": "bc7e7112-d4e5-43d1-eb28-be9c533aafa5"
      },
      "source": [
        "import random\r\n",
        "import sys\r\n",
        "\r\n",
        "print(\" Rules for winning a game is : \\n Rock vs Paper --> Paper \\nRock vs Scissor --> Rock\\nPaper vs Scissor --> Scissor\\n\")\r\n",
        "\r\n",
        "print(\"choose your choice :\\n 1.Rock \\n 2.Paper \\n 3.Scissor\\n \")\r\n",
        "choice = int(input())\r\n",
        "if choice > 3 or choice < 1:\r\n",
        "    choice=int(input(\"Enter a valid input\"))\r\n",
        "\r\n",
        "print(\"\\n\\nYour choice is :\\n\",choice_name)\r\n",
        "\r\n",
        "while(True):\r\n",
        "\r\n",
        "    if choice == 1 :\r\n",
        "        choice_name = \"Rock\"\r\n",
        "    elif choice == 2:\r\n",
        "        choice_name = \"Paper\"\r\n",
        "    else:\r\n",
        "        choice_name = \"Scissor\"\r\n",
        "\r\n",
        "    print(\"\\n It's Computer Turn...\\n\")\r\n",
        "\r\n",
        "    com_choice = random.randint(1,3)\r\n",
        "\r\n",
        "    if com_choice == 1 :\r\n",
        "        c_choice_name = \"Rock\"\r\n",
        "    elif com_choice == 2:\r\n",
        "        c_choice_name = \"Paper\"\r\n",
        "    else:\r\n",
        "        c_choice_name = \"Scissor\"\r\n",
        "\r\n",
        "    print(\"Computer Choice is :\\n\",c_choice_name)\r\n",
        "\r\n",
        "    if (choice == 1 and com_choice == 2) or (com_choice == 1 and choice == 2):\r\n",
        "        print(\" Paper wins -->\",end=' ')\r\n",
        "        result = \"Paper\"\r\n",
        "\r\n",
        "    elif (choice == 2 and com_choice == 3) or (choice == 3 and com_choice == 2):\r\n",
        "        print(\"Scissor wins -->\",end=' ')\r\n",
        "        result = \"Scissor\"\r\n",
        "\r\n",
        "    else:\r\n",
        "        print(\"Rock wins -->\",end=' ')\r\n",
        "        result = \"Rock\"\r\n",
        "\r\n",
        "    while choice == com_choice :\r\n",
        "        com_choice = random.randint(1,3)\r\n",
        "\r\n",
        "    if result == choice :\r\n",
        "        print(\"User win the Game \")\r\n",
        "\r\n",
        "    else:\r\n",
        "        print(\"Computer wins the Game \")\r\n",
        "\r\n",
        "    print(\"Do you wanna stop the game ? Then press (N/n) \")\r\n",
        "    ans = input()\r\n",
        "\r\n",
        "    if ans == 'N' or ans == 'n' :\r\n",
        "        sys.exit\r\n",
        "        break\r\n",
        "    \r\n",
        "    \r\n",
        "\r\n",
        "    \r\n",
        "    \r\n",
        "\r\n",
        "    \r\n",
        "    \r\n",
        "\r\n",
        "    \r\n",
        "        \r\n",
        "\r\n",
        "\r\n"
      ],
      "execution_count": null,
      "outputs": [
        {
          "output_type": "stream",
          "text": [
            " Rules for winning a game is : \n",
            " Rock vs Paper --> Paper \n",
            "Rock vs Scissor --> Rock\n",
            "Paper vs Scissor --> Scissor\n",
            "\n",
            "choose your choice :\n",
            " 1.Rock \n",
            " 2.Paper \n",
            " 3.Scissor\n",
            " \n",
            "1\n",
            "\n",
            "\n",
            "Your choice is :\n",
            " Rock\n",
            "\n",
            " It's Computer Turn...\n",
            "\n",
            "Computer Choice is :\n",
            " Paper\n",
            " Paper wins --> Computer wins the Game \n",
            "Do you wanna stop the game ? Then press (N/n) \n"
          ],
          "name": "stdout"
        }
      ]
    },
    {
      "cell_type": "code",
      "metadata": {
        "id": "q9K7W-IahccV"
      },
      "source": [
        ""
      ],
      "execution_count": null,
      "outputs": []
    }
  ]
}